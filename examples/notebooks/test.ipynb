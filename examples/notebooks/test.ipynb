{
 "cells": [
  {
   "cell_type": "code",
   "execution_count": 13,
   "id": "3d4e5b22",
   "metadata": {},
   "outputs": [],
   "source": [
    "import random\n",
    "import numpy as np\n",
    "\n",
    "from node_importance.network import Network\n",
    "from node_importance.diffusion import IndependentCascade"
   ]
  },
  {
   "cell_type": "markdown",
   "id": "079d8fd2",
   "metadata": {},
   "source": [
    "## Load Network"
   ]
  },
  {
   "cell_type": "code",
   "execution_count": 2,
   "id": "6baa345e",
   "metadata": {},
   "outputs": [
    {
     "name": "stdout",
     "output_type": "stream",
     "text": [
      "Network(Nodes=7115, Edges=100762, Directed=False, Format=Graph)\n"
     ]
    }
   ],
   "source": [
    "G = Network()\n",
    "G.from_file('../../data/sample/Wiki-Vote.txt')\n",
    "print(G)"
   ]
  },
  {
   "cell_type": "markdown",
   "id": "a7d9fcbc",
   "metadata": {},
   "source": [
    "## Cascade on Network"
   ]
  },
  {
   "cell_type": "code",
   "execution_count": 3,
   "id": "d033181e",
   "metadata": {},
   "outputs": [],
   "source": [
    "contagion_model = IndependentCascade(p=0.01)"
   ]
  },
  {
   "cell_type": "code",
   "execution_count": 4,
   "id": "f3c7c4b5",
   "metadata": {},
   "outputs": [
    {
     "name": "stdout",
     "output_type": "stream",
     "text": [
      "469\n"
     ]
    }
   ],
   "source": [
    "infected_init = {5, 10, 15}\n",
    "infected, history = contagion_model(G, infected_init)\n",
    "print(len(infected))"
   ]
  },
  {
   "cell_type": "markdown",
   "id": "3d1f8a50",
   "metadata": {},
   "source": [
    "## Influence Max (Greedy)"
   ]
  },
  {
   "cell_type": "code",
   "execution_count": 5,
   "id": "9c663674",
   "metadata": {},
   "outputs": [],
   "source": [
    "# from node_importance.influence_maximization.greedy import Greedy"
   ]
  },
  {
   "cell_type": "code",
   "execution_count": 6,
   "id": "de7769c9",
   "metadata": {},
   "outputs": [],
   "source": [
    "# k = 2\n",
    "# greedy = Greedy(contagion_model, num_samples=100, parallel=False)\n",
    "# best = greedy.fit(G, k)"
   ]
  },
  {
   "cell_type": "code",
   "execution_count": 7,
   "id": "bf54b98e",
   "metadata": {},
   "outputs": [],
   "source": [
    "# rand_init = random.sample(G.nodes(), k)\n",
    "\n",
    "# rand_tot = 0\n",
    "# best_tot = 0\n",
    "# for _ in range(20_000):\n",
    "#     rand_inf, _ = contagion_model(G, set(rand_init))\n",
    "#     rand_tot += len(rand_inf)\n",
    "#     best_inf, _ = contagion_model(G, set(best))\n",
    "#     best_tot += len(best_inf)\n",
    "\n",
    "# print(f'Average size of random set: {rand_tot / 20_000}')\n",
    "# print(f'Average size of best set: {best_tot / 20_000}')"
   ]
  },
  {
   "cell_type": "markdown",
   "id": "e4ea0b06",
   "metadata": {},
   "source": [
    "## Influence Max (Genetic)"
   ]
  },
  {
   "cell_type": "code",
   "execution_count": null,
   "id": "9fef75e6",
   "metadata": {},
   "outputs": [],
   "source": [
    "from node_importance.influence_maximization.genetic import Genetic\n",
    "\n",
    "genetic = Genetic(contagion_model, num_samples=10, population_size=100, parallel=True)"
   ]
  },
  {
   "cell_type": "code",
   "execution_count": 17,
   "id": "7ba6a92e",
   "metadata": {},
   "outputs": [
    {
     "name": "stderr",
     "output_type": "stream",
     "text": [
      "Generations:   4%|▍         | 4/100 [00:19<07:44,  4.83s/it]\n"
     ]
    },
    {
     "ename": "KeyboardInterrupt",
     "evalue": "",
     "output_type": "error",
     "traceback": [
      "\u001b[31m---------------------------------------------------------------------------\u001b[39m",
      "\u001b[31mKeyboardInterrupt\u001b[39m                         Traceback (most recent call last)",
      "\u001b[36mCell\u001b[39m\u001b[36m \u001b[39m\u001b[32mIn[17]\u001b[39m\u001b[32m, line 2\u001b[39m\n\u001b[32m      1\u001b[39m k = \u001b[32m10\u001b[39m\n\u001b[32m----> \u001b[39m\u001b[32m2\u001b[39m best_genetic = \u001b[43mgenetic\u001b[49m\u001b[43m.\u001b[49m\u001b[43mfit\u001b[49m\u001b[43m(\u001b[49m\u001b[43mG\u001b[49m\u001b[43m,\u001b[49m\u001b[43m \u001b[49m\u001b[43mk\u001b[49m\u001b[43m)\u001b[49m\n",
      "\u001b[36mFile \u001b[39m\u001b[32m~/Library/CloudStorage/OneDrive-UniversityofVermont/Work/CSDS/ni_dev/node_importance/influence_maximization/genetic.py:252\u001b[39m, in \u001b[36mGenetic.fit\u001b[39m\u001b[34m(self, network, k, num_generations)\u001b[39m\n\u001b[32m    249\u001b[39m     \u001b[38;5;28;01melse\u001b[39;00m:\n\u001b[32m    250\u001b[39m         \u001b[38;5;66;03m# Sequential evaluation\u001b[39;00m\n\u001b[32m    251\u001b[39m         \u001b[38;5;28;01mfor\u001b[39;00m ind \u001b[38;5;129;01min\u001b[39;00m individuals_to_evaluate:\n\u001b[32m--> \u001b[39m\u001b[32m252\u001b[39m             ind.fitness = \u001b[38;5;28;43mself\u001b[39;49m\u001b[43m.\u001b[49m\u001b[43m_estimate_influence\u001b[49m\u001b[43m(\u001b[49m\u001b[43mnetwork\u001b[49m\u001b[43m,\u001b[49m\u001b[43m \u001b[49m\u001b[43mind\u001b[49m\u001b[43m.\u001b[49m\u001b[43mgenome\u001b[49m\u001b[43m)\u001b[49m\n\u001b[32m    254\u001b[39m population.sort(key=\u001b[38;5;28;01mlambda\u001b[39;00m ind: ind.fitness, reverse=\u001b[38;5;28;01mTrue\u001b[39;00m)\n\u001b[32m    256\u001b[39m \u001b[38;5;28;01mif\u001b[39;00m best_individual \u001b[38;5;129;01mis\u001b[39;00m \u001b[38;5;28;01mNone\u001b[39;00m \u001b[38;5;129;01mor\u001b[39;00m population[\u001b[32m0\u001b[39m].fitness > best_individual.fitness:\n",
      "\u001b[36mFile \u001b[39m\u001b[32m~/Library/CloudStorage/OneDrive-UniversityofVermont/Work/CSDS/ni_dev/node_importance/influence_maximization/genetic.py:96\u001b[39m, in \u001b[36mGenetic._estimate_influence\u001b[39m\u001b[34m(self, network, genome)\u001b[39m\n\u001b[32m     81\u001b[39m \u001b[38;5;250m\u001b[39m\u001b[33;03m\"\"\"\u001b[39;00m\n\u001b[32m     82\u001b[39m \u001b[33;03mEstimate the influence of a given genome using the contagion model multiple times.\u001b[39;00m\n\u001b[32m     83\u001b[39m \n\u001b[32m   (...)\u001b[39m\u001b[32m     93\u001b[39m \u001b[33;03m    The average influence of the genome over multiple contagion runs.\u001b[39;00m\n\u001b[32m     94\u001b[39m \u001b[33;03m\"\"\"\u001b[39;00m\n\u001b[32m     95\u001b[39m args = (network, \u001b[38;5;28mself\u001b[39m.diffusion_model, genome, \u001b[38;5;28mself\u001b[39m.num_samples)\n\u001b[32m---> \u001b[39m\u001b[32m96\u001b[39m \u001b[38;5;28;01mreturn\u001b[39;00m \u001b[38;5;28;43mself\u001b[39;49m\u001b[43m.\u001b[49m\u001b[43m_calculate_individual_fitness\u001b[49m\u001b[43m(\u001b[49m\u001b[43margs\u001b[49m\u001b[43m)\u001b[49m\n",
      "\u001b[36mFile \u001b[39m\u001b[32m~/Library/CloudStorage/OneDrive-UniversityofVermont/Work/CSDS/ni_dev/node_importance/influence_maximization/genetic.py:74\u001b[39m, in \u001b[36mGenetic._calculate_individual_fitness\u001b[39m\u001b[34m(args)\u001b[39m\n\u001b[32m     72\u001b[39m \u001b[38;5;28;01mfor\u001b[39;00m rep \u001b[38;5;129;01min\u001b[39;00m \u001b[38;5;28mrange\u001b[39m(num_samples):\n\u001b[32m     73\u001b[39m     infected = genome.copy()\n\u001b[32m---> \u001b[39m\u001b[32m74\u001b[39m     spread, history = \u001b[43mdiffusion_model\u001b[49m\u001b[43m(\u001b[49m\u001b[43mnetwork\u001b[49m\u001b[43m,\u001b[49m\u001b[43m \u001b[49m\u001b[43minfected\u001b[49m\u001b[43m)\u001b[49m\n\u001b[32m     75\u001b[39m     total_influence += \u001b[38;5;28mlen\u001b[39m(spread)\n\u001b[32m     77\u001b[39m average_influence = total_influence / num_samples\n",
      "\u001b[36mFile \u001b[39m\u001b[32m~/Library/CloudStorage/OneDrive-UniversityofVermont/Work/CSDS/ni_dev/node_importance/diffusion.py:89\u001b[39m, in \u001b[36mDiffusionModel.__call__\u001b[39m\u001b[34m(self, network, infected_init, immunized_init)\u001b[39m\n\u001b[32m     88\u001b[39m \u001b[38;5;28;01mdef\u001b[39;00m\u001b[38;5;250m \u001b[39m\u001b[34m__call__\u001b[39m(\u001b[38;5;28mself\u001b[39m, network: Network, infected_init: Set[\u001b[38;5;28mint\u001b[39m], immunized_init: Optional[Set[\u001b[38;5;28mint\u001b[39m]] = \u001b[38;5;28;01mNone\u001b[39;00m) -> Tuple[Set[\u001b[38;5;28mint\u001b[39m], List[Set[\u001b[38;5;28mint\u001b[39m]]]:\n\u001b[32m---> \u001b[39m\u001b[32m89\u001b[39m     \u001b[38;5;28;01mreturn\u001b[39;00m \u001b[38;5;28;43mself\u001b[39;49m\u001b[43m.\u001b[49m\u001b[43mrun\u001b[49m\u001b[43m(\u001b[49m\u001b[43mnetwork\u001b[49m\u001b[43m,\u001b[49m\u001b[43m \u001b[49m\u001b[43minfected_init\u001b[49m\u001b[43m,\u001b[49m\u001b[43m \u001b[49m\u001b[43mimmunized_init\u001b[49m\u001b[43m)\u001b[49m\n",
      "\u001b[36mFile \u001b[39m\u001b[32m~/Library/CloudStorage/OneDrive-UniversityofVermont/Work/CSDS/ni_dev/node_importance/diffusion.py:78\u001b[39m, in \u001b[36mDiffusionModel.run\u001b[39m\u001b[34m(self, network, infected_init, immunized_init)\u001b[39m\n\u001b[32m     75\u001b[39m recently_infected = active_nodes.copy()\n\u001b[32m     77\u001b[39m \u001b[38;5;28;01mwhile\u001b[39;00m recently_infected:\n\u001b[32m---> \u001b[39m\u001b[32m78\u001b[39m     newly_infected = \u001b[38;5;28;43mself\u001b[39;49m\u001b[43m.\u001b[49m\u001b[43m_spread\u001b[49m\u001b[43m(\u001b[49m\u001b[43mnetwork\u001b[49m\u001b[43m,\u001b[49m\u001b[43m \u001b[49m\u001b[43mrecently_infected\u001b[49m\u001b[43m,\u001b[49m\u001b[43m \u001b[49m\u001b[43mactive_nodes\u001b[49m\u001b[43m,\u001b[49m\u001b[43m \u001b[49m\u001b[43mimmunized_nodes\u001b[49m\u001b[43m)\u001b[49m\n\u001b[32m     79\u001b[39m     \u001b[38;5;28;01mif\u001b[39;00m \u001b[38;5;129;01mnot\u001b[39;00m newly_infected:\n\u001b[32m     80\u001b[39m         \u001b[38;5;28;01mbreak\u001b[39;00m\n",
      "\u001b[36mFile \u001b[39m\u001b[32m~/Library/CloudStorage/OneDrive-UniversityofVermont/Work/CSDS/ni_dev/node_importance/diffusion.py:134\u001b[39m, in \u001b[36mIndependentCascade._spread\u001b[39m\u001b[34m(self, network, recently_infected, active_nodes, immunized_nodes)\u001b[39m\n\u001b[32m    132\u001b[39m         \u001b[38;5;28;01mcontinue\u001b[39;00m\n\u001b[32m    133\u001b[39m     \u001b[38;5;66;03m# Run independent Bernoulli trials for each susceptible node\u001b[39;00m\n\u001b[32m--> \u001b[39m\u001b[32m134\u001b[39m     candidates = \u001b[43mnp\u001b[49m\u001b[43m.\u001b[49m\u001b[43mfromiter\u001b[49m\u001b[43m(\u001b[49m\u001b[43msusceptible\u001b[49m\u001b[43m,\u001b[49m\u001b[43m \u001b[49m\u001b[43mdtype\u001b[49m\u001b[43m=\u001b[49m\u001b[38;5;28;43mint\u001b[39;49m\u001b[43m)\u001b[49m\n\u001b[32m    135\u001b[39m     new_infected.update(\n\u001b[32m    136\u001b[39m         candidates[np.random.uniform(\u001b[32m0\u001b[39m, \u001b[32m1\u001b[39m, \u001b[38;5;28mlen\u001b[39m(candidates)) < \u001b[38;5;28mself\u001b[39m.p]\n\u001b[32m    137\u001b[39m     )\n\u001b[32m    139\u001b[39m \u001b[38;5;28;01mreturn\u001b[39;00m new_infected\n",
      "\u001b[31mKeyboardInterrupt\u001b[39m: "
     ]
    }
   ],
   "source": [
    "k = 10\n",
    "best_genetic = genetic.fit(G, k)"
   ]
  },
  {
   "cell_type": "code",
   "execution_count": 15,
   "id": "8a3e3d60",
   "metadata": {},
   "outputs": [
    {
     "name": "stdout",
     "output_type": "stream",
     "text": [
      "Average size of random set: 99.222\n",
      "Average size of best set: 433.941\n"
     ]
    }
   ],
   "source": [
    "rand_init = np.random.choice(G.nodes(), k, replace=False)\n",
    "\n",
    "rand_tot = 0\n",
    "best_tot = 0\n",
    "for _ in range(2_000):\n",
    "    rand_inf, _ = contagion_model(G, set(rand_init))\n",
    "    rand_tot += len(rand_inf)\n",
    "    best_inf, _ = contagion_model(G, set(best_genetic))\n",
    "    best_tot += len(best_inf)\n",
    "\n",
    "print(f'Average size of random set: {rand_tot / 2_000}')\n",
    "print(f'Average size of best set: {best_tot / 2_000}')"
   ]
  }
 ],
 "metadata": {
  "kernelspec": {
   "display_name": "node_importance",
   "language": "python",
   "name": "python3"
  },
  "language_info": {
   "codemirror_mode": {
    "name": "ipython",
    "version": 3
   },
   "file_extension": ".py",
   "mimetype": "text/x-python",
   "name": "python",
   "nbconvert_exporter": "python",
   "pygments_lexer": "ipython3",
   "version": "3.13.5"
  }
 },
 "nbformat": 4,
 "nbformat_minor": 5
}
